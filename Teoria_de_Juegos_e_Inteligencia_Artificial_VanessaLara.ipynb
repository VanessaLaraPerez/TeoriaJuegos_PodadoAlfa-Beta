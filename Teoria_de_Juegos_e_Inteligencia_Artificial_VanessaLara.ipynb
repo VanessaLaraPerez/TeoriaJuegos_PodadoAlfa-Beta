{
  "nbformat": 4,
  "nbformat_minor": 0,
  "metadata": {
    "colab": {
      "provenance": [],
      "include_colab_link": true
    },
    "kernelspec": {
      "name": "python3",
      "display_name": "Python 3"
    },
    "language_info": {
      "name": "python"
    }
  },
  "cells": [
    {
      "cell_type": "markdown",
      "metadata": {
        "id": "view-in-github",
        "colab_type": "text"
      },
      "source": [
        "<a href=\"https://colab.research.google.com/github/VanessaLaraPerez/TeoriaJuegos_PodadoAlfa-Beta/blob/main/Teoria_de_Juegos_e_Inteligencia_Artificial_VanessaLara.ipynb\" target=\"_parent\"><img src=\"https://colab.research.google.com/assets/colab-badge.svg\" alt=\"Open In Colab\"/></a>"
      ]
    },
    {
      "cell_type": "code",
      "metadata": {
        "colab": {
          "base_uri": "https://localhost:8080/"
        },
        "id": "O_o70unS2OCI",
        "outputId": "ed49411a-c0be-45e7-86cd-1478e40f250d"
      },
      "source": [
        "!pip install nashpy"
      ],
      "execution_count": 40,
      "outputs": [
        {
          "output_type": "stream",
          "name": "stdout",
          "text": [
            "Looking in indexes: https://pypi.org/simple, https://us-python.pkg.dev/colab-wheels/public/simple/\n",
            "Requirement already satisfied: nashpy in /usr/local/lib/python3.8/dist-packages (0.0.35)\n",
            "Requirement already satisfied: numpy>=1.21.0 in /usr/local/lib/python3.8/dist-packages (from nashpy) (1.21.6)\n",
            "Requirement already satisfied: scipy>=0.19.0 in /usr/local/lib/python3.8/dist-packages (from nashpy) (1.7.3)\n"
          ]
        }
      ]
    },
    {
      "cell_type": "code",
      "metadata": {
        "id": "uL1KhvnQ2UeA"
      },
      "source": [
        "import nashpy as nash\n",
        "import numpy as np"
      ],
      "execution_count": 41,
      "outputs": []
    },
    {
      "cell_type": "markdown",
      "metadata": {
        "id": "67fjZcxD8tWX"
      },
      "source": [
        "Definimos las matrices de recompensas:"
      ]
    },
    {
      "cell_type": "code",
      "metadata": {
        "colab": {
          "base_uri": "https://localhost:8080/"
        },
        "id": "nU5fEXvb2B-m",
        "outputId": "8137fd70-a717-41d6-8872-a7cd54a04155"
      },
      "source": [
        "A = np.array([[-8, 0], [-10, -1]]) # A es el jugador filas.\n",
        "B = np.array([[-8, -10], [0, -1]]) # B es el jugador columnas.\n",
        "juego1 = nash.Game(A,B)\n",
        "juego1"
      ],
      "execution_count": 42,
      "outputs": [
        {
          "output_type": "execute_result",
          "data": {
            "text/plain": [
              "Bi matrix game with payoff matrices:\n",
              "\n",
              "Row player:\n",
              "[[ -8   0]\n",
              " [-10  -1]]\n",
              "\n",
              "Column player:\n",
              "[[ -8 -10]\n",
              " [  0  -1]]"
            ]
          },
          "metadata": {},
          "execution_count": 42
        }
      ]
    },
    {
      "cell_type": "markdown",
      "metadata": {
        "id": "Rf-mr2AU8xHa"
      },
      "source": [
        "Encontramos las estrategias de Equilibrio:"
      ]
    },
    {
      "cell_type": "code",
      "metadata": {
        "colab": {
          "base_uri": "https://localhost:8080/"
        },
        "id": "iSX4Gayf2dnd",
        "outputId": "17d819e1-8b62-4b83-d16a-c904782e2656"
      },
      "source": [
        "equilibrios = juego1.support_enumeration()\n",
        "for eq in equilibrios:\n",
        "    print(eq)"
      ],
      "execution_count": 43,
      "outputs": [
        {
          "output_type": "stream",
          "name": "stdout",
          "text": [
            "(array([1., 0.]), array([1., 0.]))\n"
          ]
        }
      ]
    },
    {
      "cell_type": "markdown",
      "metadata": {
        "id": "VxvFG9Xn-Mte"
      },
      "source": [
        "De manera similar, para un juego mas complejo con estrategias dominantes:"
      ]
    },
    {
      "cell_type": "code",
      "metadata": {
        "colab": {
          "base_uri": "https://localhost:8080/"
        },
        "id": "x7D5FL1e2nln",
        "outputId": "2845ef35-29a5-4288-dee6-eda990866f63"
      },
      "source": [
        "A2 = np.array([[6, 4, 4, 3],\n",
        "               [5, 6, 0, 5],\n",
        "               [5, 3, 6, 4],\n",
        "               [2, 2, 3, 6]]) # A es el jugador filas.\n",
        "               \n",
        "B2 = np.array([[3, 4, 1, 0],\n",
        "               [4, 3, 2, 1],\n",
        "               [0, 2, 1, 4],\n",
        "               [0, 3, 3, 1]]) # B es el jugador columnas.\n",
        "juego2 = nash.Game(A2, B2)\n",
        "juego2"
      ],
      "execution_count": 44,
      "outputs": [
        {
          "output_type": "execute_result",
          "data": {
            "text/plain": [
              "Bi matrix game with payoff matrices:\n",
              "\n",
              "Row player:\n",
              "[[6 4 4 3]\n",
              " [5 6 0 5]\n",
              " [5 3 6 4]\n",
              " [2 2 3 6]]\n",
              "\n",
              "Column player:\n",
              "[[3 4 1 0]\n",
              " [4 3 2 1]\n",
              " [0 2 1 4]\n",
              " [0 3 3 1]]"
            ]
          },
          "metadata": {},
          "execution_count": 44
        }
      ]
    },
    {
      "cell_type": "markdown",
      "metadata": {
        "id": "efdkbSf8-RK6"
      },
      "source": [
        "Las estrategias resultantes son aquellas que no son dominadas:"
      ]
    },
    {
      "cell_type": "code",
      "metadata": {
        "colab": {
          "base_uri": "https://localhost:8080/"
        },
        "id": "PTNTe5kH98Pj",
        "outputId": "662eede7-65a7-4545-a548-2dddd8a8b64b"
      },
      "source": [
        "equilibrios = juego2.support_enumeration()\n",
        "for eq in equilibrios:\n",
        "    print(eq)"
      ],
      "execution_count": 45,
      "outputs": [
        {
          "output_type": "stream",
          "name": "stdout",
          "text": [
            "(array([0.5, 0.5, 0. , 0. ]), array([0.66666667, 0.33333333, 0.        , 0.        ]))\n"
          ]
        }
      ]
    },
    {
      "cell_type": "markdown",
      "metadata": {
        "id": "8uG0MTntCovf"
      },
      "source": [
        "# Minimax para 3 en Raya"
      ]
    },
    {
      "cell_type": "code",
      "metadata": {
        "id": "_apVivwXCqa_"
      },
      "source": [
        "import time\n",
        "\n",
        "class Juego:\n",
        "    def __init__(self):\n",
        "        self.iniciar_juego()\n",
        "\n",
        "    def iniciar_juego(self):\n",
        "        self.estado_actual = [['.','.','.'],\n",
        "                              ['.','.','.'],\n",
        "                              ['.','.','.']]\n",
        "\n",
        "        # X siempre juega primero:\n",
        "        self.turno_jugador = 'X'\n",
        "\n",
        "    def dibujar_tablero(self):\n",
        "        for i in range(0, 3):\n",
        "            for j in range(0, 3):\n",
        "                print('{}|'.format(self.estado_actual[i][j]), end=\" \")\n",
        "            print()\n",
        "        print()\n",
        "\n",
        "    def es_valido(self, px, py):\n",
        "      if px < 0 or px > 2 or py < 0 or py > 2:\n",
        "          return False\n",
        "      elif self.estado_actual[px][py] != '.':\n",
        "          return False\n",
        "      else:\n",
        "          return True\n",
        "    \n",
        "    def es_fin(self):\n",
        "      # Victoria en vertical:\n",
        "      for i in range(0, 3):\n",
        "          if (self.estado_actual[0][i] != '.' and\n",
        "              self.estado_actual[0][i] == self.estado_actual[1][i] and\n",
        "              self.estado_actual[1][i] == self.estado_actual[2][i]):\n",
        "              return self.estado_actual[0][i]\n",
        "\n",
        "      # Victoria en Horizontal:\n",
        "      for i in range(0, 3):\n",
        "          if (self.estado_actual[i] == ['X', 'X', 'X']):\n",
        "              return 'X'\n",
        "          elif (self.estado_actual[i] == ['O', 'O', 'O']):\n",
        "              return 'O'\n",
        "\n",
        "      # Victoria diagonal principal:\n",
        "      if (self.estado_actual[0][0] != '.' and\n",
        "          self.estado_actual[0][0] == self.estado_actual[1][1] and\n",
        "          self.estado_actual[0][0] == self.estado_actual[2][2]):\n",
        "          return self.estado_actual[0][0]\n",
        "\n",
        "      # Victoria diagonal secundaria:\n",
        "      if (self.estado_actual[0][2] != '.' and\n",
        "          self.estado_actual[0][2] == self.estado_actual[1][1] and\n",
        "          self.estado_actual[0][2] == self.estado_actual[2][0]):\n",
        "          return self.estado_actual[0][2]\n",
        "\n",
        "      # Mesa llena:\n",
        "      for i in range(0, 3):\n",
        "          for j in range(0, 3):\n",
        "              # Si hay espacio, seguimos jugando:\n",
        "              if (self.estado_actual[i][j] == '.'):\n",
        "                  return None\n",
        "\n",
        "      # Empate, mesa llena sin victoria:\n",
        "      return '.'\n",
        "\n",
        "    # 'O' es max, en este caso la IA:\n",
        "    def max(self):\n",
        "\n",
        "        # Posibles valores para max:\n",
        "        # -1 - pierde\n",
        "        #  0 - empata\n",
        "        #  1 - gana\n",
        "\n",
        "        # Inicializamos el resultado a -2, peor que lo peor\n",
        "        maxv = -2\n",
        "\n",
        "        px = None\n",
        "        py = None\n",
        "\n",
        "        resultado = self.es_fin()\n",
        "\n",
        "        # Si el juego acaba, debemos devolver el resultado:\n",
        "        if resultado == 'X':\n",
        "            return (-1, 0, 0)\n",
        "        elif resultado == 'O':\n",
        "            return (1, 0, 0)\n",
        "        elif resultado == '.':\n",
        "            return (0, 0, 0)\n",
        "\n",
        "        for i in range(0, 3):\n",
        "            for j in range(0, 3):\n",
        "                if self.estado_actual[i][j] == '.':\n",
        "                    # Esto es una rama del juego:\n",
        "                    self.estado_actual[i][j] = 'O'\n",
        "                    (m, min_i, min_j) = self.min()\n",
        "                    # Fijamos maxv si es necesario:\n",
        "                    if m > maxv:\n",
        "                        maxv = m\n",
        "                        px = i\n",
        "                        py = j\n",
        "                    # Vaciamos el tablero\n",
        "                    self.estado_actual[i][j] = '.'\n",
        "        return (maxv, px, py)\n",
        "\n",
        "    # El jugador 'X' es min, un humano en este caso, esta función simula sus\n",
        "    # movimientos:\n",
        "    def min(self):\n",
        "\n",
        "        #Inicio igual que para max:\n",
        "        minv = 2\n",
        "\n",
        "        qx = None\n",
        "        qy = None\n",
        "\n",
        "        resultado = self.es_fin()\n",
        "\n",
        "        if resultado == 'X':\n",
        "            return (-1, 0, 0)\n",
        "        elif resultado == 'O':\n",
        "            return (1, 0, 0)\n",
        "        elif resultado == '.':\n",
        "            return (0, 0, 0)\n",
        "\n",
        "        for i in range(0, 3):\n",
        "            for j in range(0, 3):\n",
        "                if self.estado_actual[i][j] == '.':\n",
        "                    self.estado_actual[i][j] = 'X'\n",
        "                    (m, max_i, max_j) = self.max()\n",
        "                    if m < minv:\n",
        "                        minv = m\n",
        "                        qx = i\n",
        "                        qy = j\n",
        "                    self.estado_actual[i][j] = '.'\n",
        "\n",
        "        return (minv, qx, qy)\n",
        "\n",
        "    def jugar(self):\n",
        "      while True:\n",
        "          self.dibujar_tablero()\n",
        "          self.resultado = self.es_fin()\n",
        "\n",
        "          # Mostrar que el juego termino:\n",
        "          if self.resultado != None:\n",
        "              if self.resultado == 'X':\n",
        "                  print('El ganador es X!')\n",
        "              elif self.resultado == 'O':\n",
        "                  print('El ganador es O!')\n",
        "              elif self.resultado == '.':\n",
        "                  print(\"Empate!\")\n",
        "\n",
        "              self.iniciar_juego()\n",
        "              return\n",
        "\n",
        "          #  Si nos toca jugar:\n",
        "          if self.turno_jugador == 'X':\n",
        "\n",
        "              while True:\n",
        "\n",
        "                  inicio = time.time()\n",
        "                  (m, qx, qy) = self.min()\n",
        "                  fin = time.time()\n",
        "                  print('Evaluacion: {}s'.format(round(fin - inicio, 7)))\n",
        "                  print('Movimientos Recomendados: X = {}, Y = {}'.format(qx, qy))\n",
        "\n",
        "                  px = int(input('X coordenada: '))\n",
        "                  py = int(input('Y coordenada: '))\n",
        "\n",
        "                  (qx, qy) = (px, py)\n",
        "\n",
        "                  if self.es_valido(px, py):\n",
        "                      self.estado_actual[px][py] = 'X'\n",
        "                      self.turno_jugador = 'O'\n",
        "                      break\n",
        "                  else:\n",
        "                      print('Movimiento no valido, prueba otra vez.')\n",
        "\n",
        "          # Turno de la IA\n",
        "          else:\n",
        "              (m, px, py) = self.max()\n",
        "              self.estado_actual[px][py] = 'O'\n",
        "              self.turno_jugador = 'X'"
      ],
      "execution_count": 46,
      "outputs": []
    },
    {
      "cell_type": "code",
      "metadata": {
        "colab": {
          "base_uri": "https://localhost:8080/"
        },
        "id": "HMm8sCeDDDVi",
        "outputId": "c7e2a4f8-9812-44c8-e2b5-b4963618bc6b"
      },
      "source": [
        "g = Juego()\n",
        "g.jugar()"
      ],
      "execution_count": 47,
      "outputs": [
        {
          "output_type": "stream",
          "name": "stdout",
          "text": [
            ".| .| .| \n",
            ".| .| .| \n",
            ".| .| .| \n",
            "\n",
            "Evaluacion: 3.4313362s\n",
            "Movimientos Recomendados: X = 0, Y = 0\n",
            "X coordenada: 0\n",
            "Y coordenada: 0\n",
            "X| .| .| \n",
            ".| .| .| \n",
            ".| .| .| \n",
            "\n",
            "X| .| .| \n",
            ".| O| .| \n",
            ".| .| .| \n",
            "\n",
            "Evaluacion: 0.0402312s\n",
            "Movimientos Recomendados: X = 0, Y = 1\n",
            "X coordenada: 0\n",
            "Y coordenada: 1\n",
            "X| X| .| \n",
            ".| O| .| \n",
            ".| .| .| \n",
            "\n",
            "X| X| O| \n",
            ".| O| .| \n",
            ".| .| .| \n",
            "\n",
            "Evaluacion: 0.0013463s\n",
            "Movimientos Recomendados: X = 2, Y = 0\n",
            "X coordenada: 2\n",
            "Y coordenada: 0\n",
            "X| X| O| \n",
            ".| O| .| \n",
            "X| .| .| \n",
            "\n",
            "X| X| O| \n",
            "O| O| .| \n",
            "X| .| .| \n",
            "\n",
            "Evaluacion: 0.0001934s\n",
            "Movimientos Recomendados: X = 1, Y = 2\n",
            "X coordenada: 1\n",
            "Y coordenada: 2\n",
            "X| X| O| \n",
            "O| O| X| \n",
            "X| .| .| \n",
            "\n",
            "X| X| O| \n",
            "O| O| X| \n",
            "X| O| .| \n",
            "\n",
            "Evaluacion: 2.84e-05s\n",
            "Movimientos Recomendados: X = 2, Y = 2\n",
            "X coordenada: 2\n",
            "Y coordenada: 2\n",
            "X| X| O| \n",
            "O| O| X| \n",
            "X| O| X| \n",
            "\n",
            "Empate!\n"
          ]
        }
      ]
    },
    {
      "cell_type": "markdown",
      "metadata": {
        "id": "4c2dgySdN68q"
      },
      "source": [
        "# Ejercicio: ¿Puedes modificar las funciones min y max para podar las ramas innecesarias? ¿Que le pasa al tiempo de procesamiento de la busqueda de la IA?"
      ]
    },
    {
      "cell_type": "markdown",
      "metadata": {
        "id": "gkXqBCNgW--L"
      },
      "source": [
        "Modifica las funciones min, max y jugar con los ejemplos siguientes rellenando los espacios:"
      ]
    },
    {
      "cell_type": "code",
      "metadata": {
        "id": "TOB4zRutFHcd"
      },
      "source": [
        "class Ejercicio(Juego):\n",
        "\n",
        "  def max_alfa_beta(self, alpha, beta):\n",
        "        maxv = -2\n",
        "        px = None\n",
        "        py = None\n",
        "\n",
        "        resultado = self.es_fin()\n",
        "\n",
        "        if resultado == 'X':\n",
        "            return (-1, 0, 0)\n",
        "        elif resultado == 'O':\n",
        "            return (1, 0, 0)\n",
        "        elif resultado == '.':\n",
        "            return (0, 0, 0)\n",
        "\n",
        "        for i in  range(0, 3):\n",
        "            for j in range(0, 3):\n",
        "                if self.estado_actual[i][j] == '.':\n",
        "                    self.estado_actual[i][j] = 'O'\n",
        "                    (m, min_i, in_j) = self.min_alfa_beta(alfa, beta)\n",
        "                    if m > maxv:\n",
        "                        maxv = m\n",
        "                        px = i\n",
        "                        py = j\n",
        "                    self.estado_actual[i][j] = '.'\n",
        "\n",
        "                    \n",
        "                    if maxv >= beta:\n",
        "                        return (maxv, px, py)\n",
        "\n",
        "                    if maxv > alfa:\n",
        "                        alfa = maxv\n",
        "\n",
        "        return (maxv, px, py)"
      ],
      "execution_count": 48,
      "outputs": []
    },
    {
      "cell_type": "code",
      "metadata": {
        "id": "RDZcv29POvK-"
      },
      "source": [
        "def min_alfa_beta(self, alfa, beta):\n",
        "\n",
        "        minv = 2\n",
        "\n",
        "        qx = None\n",
        "        qy = None\n",
        "\n",
        "        resultado = self.es_fin()\n",
        "\n",
        "        if resultado == 'X':\n",
        "            return (-1, 0, 0)\n",
        "        elif resultado == 'O':\n",
        "            return (1, 0, 0)\n",
        "        elif resultado == '.':\n",
        "            return (0, 0, 0)\n",
        "\n",
        "        for i in range(0, 3):\n",
        "            for j in range(0, 3):\n",
        "                if self.estado_actual[i][j] == '.':\n",
        "                    self.estado_actual[i][j] = 'X'\n",
        "                    (m, max_i, max_j) = self.max_alfa_beta(alfa, beta)\n",
        "                    if m < minv:\n",
        "                        minv = m\n",
        "                        qx = i\n",
        "                        qy = j\n",
        "                    self.estado_actual[i][j] = '.'\n",
        "\n",
        "                    if minv <= alpha:\n",
        "                        return (minv, px, py)\n",
        "\n",
        "                    if minv < beta:\n",
        "                        beta = minv\n",
        "\n",
        "        return (minv, qx, qy)"
      ],
      "execution_count": 49,
      "outputs": []
    },
    {
      "cell_type": "code",
      "metadata": {
        "id": "hajLHAjPR032"
      },
      "source": [
        "  def jugar_alfa_beta(self):\n",
        "     while True:\n",
        "        self.dibujar_tablero()\n",
        "        self.resultado = self.es_fin()\n",
        "\n",
        "        if self.resultado != None:\n",
        "            if self.resultado == 'X':\n",
        "                print('Gana X!')\n",
        "            elif self.resultado == 'O':\n",
        "                print('Gana O!')\n",
        "            elif self.resultado == '.':\n",
        "                print(\"Empate\")\n",
        "\n",
        "\n",
        "            self.iniciar_juego()\n",
        "            return\n",
        "\n",
        "        if self.turno_jugador == 'X':\n",
        "\n",
        "            while True:\n",
        "                inicio = time.time()\n",
        "                (m, qx, qy) = self.min_alfa_beta(-2, 2)\n",
        "                fin = time.time()\n",
        "                print('Tiempo de evaluacion: {}s'.format(round(_fin - inicio, 7)))\n",
        "                print('Movimiento recomendado: X = {}, Y = {}'.format(qx, qy))\n",
        "\n",
        "                px = int(input('X coordenada: '))\n",
        "                py = int(input('Y coordenada: '))\n",
        "\n",
        "                qx = px\n",
        "                qy = py\n",
        "\n",
        "                if self.es_valido(px, py):\n",
        "                    self.estado_actual[px][py] = 'X'\n",
        "                    self.turno_jugador = 'O'\n",
        "                    break\n",
        "                else:\n",
        "                    print('Movimiento no valido. Prueba con otro movimiento.')\n",
        "\n",
        "        else:\n",
        "            (m, px, py) = self.max_alfa_beta(-2, 2)\n",
        "            self.estado_actual[px][py] = 'O'\n",
        "            self.turno_jugador = 'X'"
      ],
      "execution_count": 50,
      "outputs": []
    },
    {
      "cell_type": "code",
      "source": [
        "gab = Ejercicio()\n",
        "gab.jugar()"
      ],
      "metadata": {
        "colab": {
          "base_uri": "https://localhost:8080/"
        },
        "id": "wxkTaUl9gGyH",
        "outputId": "b1d9588d-815d-4661-99ad-e6ad1084a11a"
      },
      "execution_count": 51,
      "outputs": [
        {
          "output_type": "stream",
          "name": "stdout",
          "text": [
            ".| .| .| \n",
            ".| .| .| \n",
            ".| .| .| \n",
            "\n",
            "Evaluacion: 3.4921913s\n",
            "Movimientos Recomendados: X = 0, Y = 0\n",
            "X coordenada: 0\n",
            "Y coordenada: 0\n",
            "X| .| .| \n",
            ".| .| .| \n",
            ".| .| .| \n",
            "\n",
            "X| .| .| \n",
            ".| O| .| \n",
            ".| .| .| \n",
            "\n",
            "Evaluacion: 0.1207869s\n",
            "Movimientos Recomendados: X = 0, Y = 1\n",
            "X coordenada: 0\n",
            "Y coordenada: 1\n",
            "X| X| .| \n",
            ".| O| .| \n",
            ".| .| .| \n",
            "\n",
            "X| X| O| \n",
            ".| O| .| \n",
            ".| .| .| \n",
            "\n",
            "Evaluacion: 0.0017824s\n",
            "Movimientos Recomendados: X = 2, Y = 0\n",
            "X coordenada: 2\n",
            "Y coordenada: 0\n",
            "X| X| O| \n",
            ".| O| .| \n",
            "X| .| .| \n",
            "\n",
            "X| X| O| \n",
            "O| O| .| \n",
            "X| .| .| \n",
            "\n",
            "Evaluacion: 0.0001619s\n",
            "Movimientos Recomendados: X = 1, Y = 2\n",
            "X coordenada: 1\n",
            "Y coordenada: 2\n",
            "X| X| O| \n",
            "O| O| X| \n",
            "X| .| .| \n",
            "\n",
            "X| X| O| \n",
            "O| O| X| \n",
            "X| O| .| \n",
            "\n",
            "Evaluacion: 5.67e-05s\n",
            "Movimientos Recomendados: X = 2, Y = 2\n",
            "X coordenada: 2\n",
            "Y coordenada: 2\n",
            "X| X| O| \n",
            "O| O| X| \n",
            "X| O| X| \n",
            "\n",
            "Empate!\n"
          ]
        }
      ]
    }
  ]
}